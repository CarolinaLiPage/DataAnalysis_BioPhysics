{
 "cells": [
  {
   "cell_type": "markdown",
   "id": "45e814ee",
   "metadata": {},
   "source": [
    "# Simulating the SIR model using the Gillespie algorithm"
   ]
  },
  {
   "cell_type": "markdown",
   "id": "5010e4c6",
   "metadata": {},
   "source": [
    "# Import modules\n",
    "___"
   ]
  },
  {
   "cell_type": "code",
   "execution_count": 1,
   "id": "be54d8a7",
   "metadata": {},
   "outputs": [],
   "source": [
    "import matplotlib.pyplot as plt\n",
    "import numba as nb\n",
    "import numpy as np\n",
    "\n",
    "plt.style.use('custom.mplstyle')\n",
    "%config InlineBackend.figure_format = 'retina'"
   ]
  },
  {
   "cell_type": "markdown",
   "id": "62057c1b",
   "metadata": {},
   "source": [
    "# Solving the SIR model using the Euler method\n",
    "___\n",
    "\n",
    "In the [first SIR model homework](https://github.com/StatPhysBio/biophysics/blob/main/part2/SIR_model.ipynb), we looked at the SIR model's system of differential equations and solved it using Euler's method. Using this deterministic model gave us the average $S(t)$ and $I(t)$. The code to solve for the average dynamics of the SIR model using Euler's method is included below for convenience since it will be used for comparison to the output from the Gillespie algorithm. There are some differences here compared to the function created and used in the previous homework. `s0` and `i0` are integers and represent the total counts of $S(0)$ and $I(0)$. Additionally, $N$, the total population is a parameter of the function. Be mindful of these parameters and read the docstring."
   ]
  },
  {
   "cell_type": "code",
   "execution_count": 2,
   "id": "48025361",
   "metadata": {},
   "outputs": [],
   "source": [
    "def euler_sir(s0, i0, n, r0, nu, T, dt):\n",
    "    \"\"\"\n",
    "    Integrate the SIR system of differential equations using Euler's method.\n",
    "    \n",
    "    Parameters\n",
    "    ----------\n",
    "    s0 : float\n",
    "        The initial size of the susceptible population.\n",
    "    i0 : float\n",
    "        The inital size of the infected population.\n",
    "    n : int\n",
    "        The size of the total population.\n",
    "    r0 : float\n",
    "        Average amount of susceptible individuals infected by an infected individual.\n",
    "    nu : float\n",
    "        The rate at which infected individuals recover or stop being infectious.\n",
    "    T : float\n",
    "        The total time over which the integration is performed.\n",
    "    dt : float\n",
    "        The size of the timestep (integration step).\n",
    "    \n",
    "    Returns\n",
    "    -------\n",
    "    times : numpy.ndarray\n",
    "        Array of times at which the populations were evaluated.\n",
    "    s : numpy.ndarray\n",
    "        The evolution of the susceptible population over T, S(t).\n",
    "    i : numpy.ndarray\n",
    "        The evolution of the infected population over T, I(t).\n",
    "    \"\"\"\n",
    "    num_steps = int(T / dt) + 1\n",
    "    times = np.arange(num_steps) * dt\n",
    "    \n",
    "    s = np.zeros(shape=num_steps)\n",
    "    i = np.zeros(shape=num_steps)\n",
    "    \n",
    "    s[0] = s0 \n",
    "    i[0] = i0\n",
    "    \n",
    "    beta = r0 * nu / n\n",
    "    \n",
    "    for t in range(1, num_steps):\n",
    "        ds = -beta * s[t - 1] * i[t - 1] * dt\n",
    "        s[t] = s[t - 1] + ds\n",
    "        i[t] = i[t - 1] - ds - nu * i[t - 1] * dt\n",
    "        \n",
    "    return times, s, i"
   ]
  },
  {
   "cell_type": "markdown",
   "id": "414bf0d3",
   "metadata": {},
   "source": [
    "# Computing stationary $S(t)$\n",
    "___\n",
    "\n",
    "In the [first SIR model homework](https://github.com/StatPhysBio/biophysics/blob/main/part2/SIR_model.ipynb), we also looked at stationary $S(t)$, i.e., $S(\\infty)$. Code to compute $S(\\infty)$ is included below for convenience. It will be used when looking at the stationary distribution produced by the output from the Gillespie algorithm. There are some differences here compared to the function created and used in the previous homework. `s0` and `i0` are integers and represent the total counts of $S(0)$ and $I(0)$. Additionally, $N$, the total population is a parameter of the function. Be mindful of these parameters and read the docstring."
   ]
  },
  {
   "cell_type": "code",
   "execution_count": 3,
   "id": "1c325f44",
   "metadata": {},
   "outputs": [],
   "source": [
    "def stationary_s(s0, i0, n, r0, maxiters=100, tol=1e-16):\n",
    "    \"\"\"\n",
    "    Solve for S(\\infty) using the method of iterations.\n",
    "    \n",
    "    Parameters\n",
    "    ----------\n",
    "    s0 : int\n",
    "        The initial size of the population susceptible.\n",
    "    i0 : int\n",
    "        The inital size of the population infected.\n",
    "    n : int\n",
    "        The total size of the population\n",
    "    r0 : float\n",
    "        Average amount of susceptible individuals infected by an infected individual.\n",
    "    tol : float\n",
    "        Error tolerance.\n",
    "    maxiters : int\n",
    "        Maximum number of iterations to be performed.\n",
    "        \n",
    "    Returns\n",
    "    -------\n",
    "    s : float\n",
    "        The solution to the transcendental equation for S(\\infty).\n",
    "    \"\"\"\n",
    "    s = s0\n",
    "    r0_div_n = r0 / n\n",
    "    c = i0 + s0 - np.log(s0)  / r0_div_n\n",
    "    err = 100\n",
    "    counter = 0\n",
    "    \n",
    "    while (err > tol) and (counter < maxiters):\n",
    "        sol = np.exp((s - c) * r0_div_n)\n",
    "        if s - sol == 0:\n",
    "            return s\n",
    "        err = np.abs((s - sol) / s)\n",
    "        s = sol\n",
    "        counter += 1\n",
    "    \n",
    "    return s"
   ]
  },
  {
   "cell_type": "markdown",
   "id": "f608314a",
   "metadata": {},
   "source": [
    "# Set up a random number generator\n",
    "___"
   ]
  },
  {
   "cell_type": "code",
   "execution_count": 4,
   "id": "92356454",
   "metadata": {},
   "outputs": [],
   "source": [
    "rng = np.random.default_rng(seed=0)"
   ]
  },
  {
   "cell_type": "markdown",
   "id": "2894a196",
   "metadata": {},
   "source": [
    "For this assignment, you can use `rng.random` and `rng.exponential` if you choose not to use Numba, or you can use `np.random.random` and `np.random.exponential` along with Numba."
   ]
  },
  {
   "cell_type": "markdown",
   "id": "51adddb6",
   "metadata": {},
   "source": [
    "# Introduction\n",
    "____\n",
    "\n",
    "Previously, we studied the SIR model using a system of differential equations and solved them using numerical integration and Euler's method. Now that we have a theoretical and programmatic understanding of the Gillespie algorithm, we can use it to simulate stochastic realizations of the SIR model and obtain solutions for the SIR master equation and steady-state distributions. As a reminder, the system of differential equations we are interested in is\n",
    "\n",
    "$$\n",
    "\\begin{align*}\n",
    "\\frac{dS(t)}{dt} &= -\\frac{\\beta S(t) I(t)}{N} \\\\\n",
    "\\frac{dI(t)}{dt} &= \\frac{\\beta S(t) I(t)}{N} - \\nu I(t) \\\\\n",
    "\\frac{dR(t)}{dt} &= \\nu I(t)\n",
    "\\end{align*}\n",
    "$$\n",
    "\n",
    "$\\beta > 0$ is the rate at which a susceptible person meeting an infected individual becomes infected. $\\nu > 0$ is the rate at which infectious people recover. Both parameters have units of inverse time. **Here, $S$, $I$, and $R$ are not fractions of the population. They are integers representing how many individuals are in each respective population.** The variables are defined in this way because the reaction equations governing the SIR dynamics change the values of the populations by $\\pm 1$ each time a reaction occurs.\n",
    "\n",
    "Additionally, recall that the basic reproduction number $R_0$ is defined by\n",
    "\n",
    "$$\n",
    "R_0 = \\frac{\\beta}{\\nu}\n",
    "$$\n",
    "\n",
    "$R_0$ gives the average amount of susceptible individuals infected by an infected individual. We will be using $(R_0, \\nu)$ to parameterize the SIR dynamics instead of $(\\beta, \\nu)$.\n",
    "\n",
    "The reaction equations for the SIR model are:\n",
    "\n",
    "\\begin{align}\n",
    "\\begin{array}{ll}\n",
    "\\text{reaction, }r_i & \\text{rate, } k_i \\\\\n",
    "S \\rightarrow S - 1,\\;\\;\\;\\; & R_0 \\nu S I / N \\\\[0.3em]\n",
    "I \\rightarrow I + 1, \\;\\;\\;\\; & R_0 \\nu S I / N \\\\[0.3em]\n",
    "I \\rightarrow I - 1, \\;\\;\\;\\; & \\nu I \\\\[0.3em]\n",
    "R \\rightarrow R + 1, \\;\\;\\;\\; & \\nu I \\\\[0.3em]\n",
    "\\end{array}\n",
    "\\end{align}\n",
    "\n",
    "The susceptible population decreases by 1 and the infected population increases by 1 at a rate given by $R_0 \\nu S I /N$, where $S$ and $I$ are the current sizes of the susceptible and infected populations, respectively. The infected population decreases by 1 and the recovered population increases by 1 at a rate given by $\\nu I$, the current size of the infected population.\n",
    "\n",
    "Because $S + I + R = N$, we need not keep track of $R(t)$.\n",
    "\n",
    "**Note**: We assume that the total population size $N$ remains constant. In this case, if an individual gets infected, then the number of infected individuals increases by 1 and (at the same time) the number of susceptible individuals decreases by 1. "
   ]
  },
  {
   "cell_type": "markdown",
   "id": "36a51127",
   "metadata": {},
   "source": [
    "### **Question 1**: (15 points) Write a master equation for the dynamics of the joint probability density $p(S, I, t)$. Explain each term in your master equation. Note that, in this case, both $S$ and $I$ could change in a given time step. (20 pts)\n",
    "\n",
    "**Hint:** think about the events (e.g., one person gets infected), and how these events impact the population sizes of susceptible and infected individuals."
   ]
  },
  {
   "cell_type": "markdown",
   "id": "972d4b81",
   "metadata": {},
   "source": [
    "**your answer:**"
   ]
  },
  {
   "cell_type": "markdown",
   "id": "6f344414",
   "metadata": {},
   "source": [
    "### **Question 2**: (15 points) Write a function that implements the Gillespie algorithm for simulating $S$ and $I$.\n",
    "\n",
    "It should have as its parameters:\n",
    "- `s0`, the initial size of the susceptible population\n",
    "- `i0`, the initial size of the infected population\n",
    "- `n`, the size of the total population\n",
    "- `r0`, the basic reproduction number, indicating the average amount of susceptible individuals infected by an infected individual.\n",
    "- `nu`, the rate at which infectious people recover\n",
    "- `T`, the time at which the simulations should end \n",
    "\n",
    "It should return:\n",
    "- `times`, a one-dimensional numpy array containing the times at which events occurred\n",
    "- `s`, a one-dimensional numpy array containing the size of the susceptible population over the course of the simulation\n",
    "- `i`, a one-dimensional numpy array containing the size of the infected population over the course of the simulation\n",
    "\n",
    "You are free to use `@nb.njit` if you'd like (see Tutorial 5), but your code must be very similar to what was done in tutorial. Numba is very sensitive and things that might not be errors otherwise could be considered errors by Numba. **If you are not comfortable using it, you don't have to use it.**\n",
    "\n",
    "**Hints:** \n",
    "- Initialize `times = [0.0]`. Using `times = [0]` will cause erroneous behavior for Numba. Otherwise, your code can highly _resemble_ what was done in Tutorial 5.\n",
    "- Because `times` is expected to contain the times at which events occurred, use `s.append(s[-1])` if only `i` changes otherwise `s` and `times` will have different lengths and will not correspond correctly to one another.\n",
    "- Because the infected population may become 0 over the course of the simulation, making both the rate of infection and recovery 0, the sum of the rates will be 0. This will result in the code breaking due to a division-by-zero error. In the spirit of what was used in Tutorial 5, write the following code right after the beginning of the while loop\n",
    "```python\n",
    "if i[-1] == 0:\n",
    "    s.append(s[-1])\n",
    "    i.append(i[-1])\n",
    "    times.append(T)\n",
    "    return np.array(times), np.array(s), np.array(i)\n",
    "```"
   ]
  },
  {
   "cell_type": "code",
   "execution_count": 5,
   "id": "813f250d",
   "metadata": {},
   "outputs": [],
   "source": [
    "@nb.njit\n",
    "def gillespie_sir(s0, i0, n, r0, nu, T):\n",
    "    pass"
   ]
  },
  {
   "cell_type": "markdown",
   "id": "f4599b23",
   "metadata": {},
   "source": [
    "### **Question 3:** (5 points) Store the results from 20 runs of the Gillespie algorithm using the following parameters:\n",
    "\n",
    "- $N = 100 \\, \\mathrm{people}$\n",
    "- $S_0 = 99\\, \\mathrm{people}$\n",
    "- $I_0 = 1\\, \\mathrm{people}$\n",
    "- $R_0 = 5$\n",
    "- $\\nu = \\frac{1}{7} \\, \\mathrm{days}^{-1}$\n",
    "- $T = 100 \\, \\mathrm{days}$"
   ]
  },
  {
   "cell_type": "code",
   "execution_count": 6,
   "id": "ef4a75b5",
   "metadata": {},
   "outputs": [],
   "source": [
    "pass"
   ]
  },
  {
   "cell_type": "markdown",
   "id": "22c58dc4",
   "metadata": {},
   "source": [
    "### **Question 4:** (10 points) Plot and compare your realizations with the average $S(t)$ and $I(t)$ obtained from solving the SIR differential equations with the Euler method. Create a figure with 2 axes, setting `sharey=True` and `sharex=True` (see Tutorial 5 for use). Plot $S(t)$ on one of axes, and plot $I(t)$ on the other. Plot the average $S(t)$ and $I(t)$ as a thick, black, dashed lines on their respective axes. Label your x- and y-axis appropriately. Set the x-axis limit to be $(0, T)$ using the $T$ from Question 3. Title the axes appropriately. No legend is necessary here.\n",
    "\n",
    "For example, your plots may appear as\n",
    "\n",
    "![gillepsie_realizations_plot](gillepsie_realizations_plot.png)"
   ]
  },
  {
   "cell_type": "code",
   "execution_count": 7,
   "id": "f0ace36b",
   "metadata": {},
   "outputs": [],
   "source": [
    "pass"
   ]
  },
  {
   "cell_type": "markdown",
   "id": "7977d400",
   "metadata": {},
   "source": [
    "### **Question 5:** (5 points) Store the steady state $S(t)$ from 10,000 runs of the Gillespie algorithm using the following parameters:\n",
    "\n",
    "- $N = 1000 \\, \\mathrm{people}$\n",
    "- $S_0 = 999\\, \\mathrm{people}$\n",
    "- $I_0 = 1\\, \\mathrm{people}$\n",
    "- $R_0 \\in [2, 3, 5,10]$\n",
    "- $\\nu = \\frac{1}{7} \\, \\mathrm{days}^{-1}$\n",
    "- $T = 100 \\, \\mathrm{days}$\n",
    "\n",
    "**Hint:** you should have 40,000 steady state $S(t)$, 10,000 for each $R_0$."
   ]
  },
  {
   "cell_type": "code",
   "execution_count": 8,
   "id": "1bf65f37",
   "metadata": {},
   "outputs": [],
   "source": [
    "pass"
   ]
  },
  {
   "cell_type": "markdown",
   "id": "9f984c08",
   "metadata": {},
   "source": [
    "### **Question 6:** (15 points) Create a figure with 4 axes, setting `sharey=True` and `sharex=True` (see Tutorial 5 for use). Make four histograms of the steady-state $S(t)$, one for each $R_0$. Use `stationary_s` (see top of notebook) to compute the expected steady-state $S(t)$, and use [`ax.axvline`](https://matplotlib.org/stable/api/_as_gen/matplotlib.pyplot.axvline.html) (see SIR_model homework solutions or click [`ax.axvline`](https://matplotlib.org/stable/api/_as_gen/matplotlib.pyplot.axvline.html)) to plot this expected value using a black, dashed line. Use `density=True` and `bins=np.arange(0, n + 40, 20) - 10` (where `n` is $N$ specified in Question 5) for `ax.hist`. Label the axes appropriately. No legend is necessary here.\n",
    "\n",
    "For example, your plots may appear as\n",
    "![gillepsie_stationary_plot](gillepsie_stationary_plot.png)"
   ]
  },
  {
   "cell_type": "code",
   "execution_count": 9,
   "id": "925b7047",
   "metadata": {},
   "outputs": [],
   "source": [
    "pass"
   ]
  },
  {
   "cell_type": "markdown",
   "id": "89a138e1",
   "metadata": {},
   "source": [
    "### **Question 7:** (5 points) We see the distribution of $S(\\infty)$ is bimodal. On the left hand side of each graph, we see a distribution with a mean that is consistent with the theoretical estimate from the deterministic SIR model. On the right hand side, we see a second mode of the distribution, indicating that in a fraction of realizations (simulation runs) the  asymptotic size of the susceptible population remains appoximately close to the size of the susceptible population at the beginning of the simulation $S(\\infty) \\approx S(0) $. Explain why we see such behavior."
   ]
  },
  {
   "cell_type": "markdown",
   "id": "afdd572a",
   "metadata": {},
   "source": [
    "**your answer:**"
   ]
  }
 ],
 "metadata": {
  "kernelspec": {
   "display_name": "biophys2022",
   "language": "python",
   "name": "biophys2022"
  },
  "language_info": {
   "codemirror_mode": {
    "name": "ipython",
    "version": 3
   },
   "file_extension": ".py",
   "mimetype": "text/x-python",
   "name": "python",
   "nbconvert_exporter": "python",
   "pygments_lexer": "ipython3",
   "version": "3.8.10"
  }
 },
 "nbformat": 4,
 "nbformat_minor": 5
}
