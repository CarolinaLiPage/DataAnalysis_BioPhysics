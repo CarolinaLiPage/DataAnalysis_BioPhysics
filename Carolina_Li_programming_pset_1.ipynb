{
  "cells": [
    {
      "cell_type": "markdown",
      "id": "8b66fffc-512c-4742-a5aa-681e8e2e9722",
      "metadata": {
        "id": "8b66fffc-512c-4742-a5aa-681e8e2e9722"
      },
      "source": [
        "# Problem set 1 (50 pts)"
      ]
    },
    {
      "cell_type": "code",
      "execution_count": 164,
      "id": "146db00d-e53d-4039-a5f2-b2cba3b43415",
      "metadata": {
        "id": "146db00d-e53d-4039-a5f2-b2cba3b43415"
      },
      "outputs": [],
      "source": [
        "import matplotlib.pyplot as plt\n",
        "import numpy as np\n",
        "\n",
        "%config InlineBackend.figure_format = 'retina'"
      ]
    },
    {
      "cell_type": "markdown",
      "id": "bf646605-ff59-4e84-b2d7-81b6ee36bdeb",
      "metadata": {
        "id": "bf646605-ff59-4e84-b2d7-81b6ee36bdeb"
      },
      "source": [
        "Recall the kinematic equations for a particle moving in one dimension are\n",
        "\n",
        "$$\n",
        "x(t) = x_i + v_i t + \\frac{a t^2}{2}\n",
        "$$\n",
        "$$\n",
        "v(t) = v_i + a t\n",
        "$$\n",
        "\n",
        "### 1.a Write a function for these equations. (5 pts)\n",
        "\n",
        "It should have as its parameters:\n",
        "- `t`, a one-dimensional numpy array of times $\\vec{t}$\n",
        "- `xi`, an initial position\n",
        "- `vi`, an initial velocity\n",
        "- `a`, an acceleration\n",
        "\n",
        "It should return:\n",
        "- `x`, a one-dimensional array of positions $\\vec{x}(t)$\n",
        "- `v`, a one-dimensional array of velocities $\\vec{v}(t)$\n",
        "\n",
        "Hint: Do not include any loops in this function. You should test and use this function with numpy arrays."
      ]
    },
    {
      "cell_type": "code",
      "execution_count": 165,
      "id": "0547de33-7746-4913-a557-ee42cf183ba0",
      "metadata": {
        "id": "0547de33-7746-4913-a557-ee42cf183ba0"
      },
      "outputs": [],
      "source": [
        "def kinematic_eqs(t, xi, vi, a):\n",
        "    x = xi + vi*t + 0.5*(a*t*t)\n",
        "    v = vi + a*t\n",
        "    return x, v"
      ]
    },
    {
      "cell_type": "markdown",
      "id": "be3ca908-6ec3-429d-89b3-604480cd40fd",
      "metadata": {
        "id": "be3ca908-6ec3-429d-89b3-604480cd40fd"
      },
      "source": [
        "Imagine a particle travels on a flat surface and that its acceleration changes abruptly twice. The parameters of the one-dimensional kinematic equations describing the particle's trajectory are as follows\n",
        "\n",
        "$$\n",
        "\\begin{cases} \n",
        "    x_i = 3 \\, \\mathrm{m}, \\, v_{i} = -2 \\, \\mathrm{ms^{-1}},  a = 2 \\, \\mathrm{ms^{-2}} & t = 0 \\, \\mathrm{s} \\\\\n",
        "    a = -4 \\, \\mathrm{ms^{-2}} & t \\geq 5 \\, \\mathrm{s} \\\\\n",
        "    a = 3 \\, \\mathrm{ms^{-2}} & t \\geq 10 \\, \\mathrm{s}\n",
        "\\end{cases}\n",
        "$$"
      ]
    },
    {
      "cell_type": "markdown",
      "id": "55f26ddb-5938-4249-9411-3b78c9c0188b",
      "metadata": {
        "id": "55f26ddb-5938-4249-9411-3b78c9c0188b"
      },
      "source": [
        "### 1.b Calculate the positions and velocities at $t \\in \\{5, 10, 15\\}$ by hand or by using the function you created. This will define your expectation and let you know if there are bugs in your code for the rest of the problem set. (Fill in the question marks.) (6pts)\n",
        "\n",
        "Hint: when the acceleration changes, time \"resets.\"\n",
        "\n",
        "- $x(5)$ = ?\n",
        "- $x(10)$ = ?\n",
        "- $x(15)$ = ?\n",
        "- $v(5)$ = ?\n",
        "- $v(10)$ = ?\n",
        "- $v(15)$ = ?"
      ]
    },
    {
      "cell_type": "code",
      "execution_count": 166,
      "id": "bc66d772-9fc3-49e8-b82c-54cb02b4da37",
      "metadata": {
        "colab": {
          "base_uri": "https://localhost:8080/"
        },
        "id": "bc66d772-9fc3-49e8-b82c-54cb02b4da37",
        "outputId": "f71758dd-4c9b-41a9-8b73-1bf2c0ed713f"
      },
      "outputs": [
        {
          "name": "stdout",
          "output_type": "stream",
          "text": [
            "[  3.      2.81    2.64    2.49    2.36    2.25    2.16    2.09    2.04\n",
            "   2.01    2.      2.01    2.04    2.09    2.16    2.25    2.36    2.49\n",
            "   2.64    2.81    3.      3.21    3.44    3.69    3.96    4.25    4.56\n",
            "   4.89    5.24    5.61    6.      6.41    6.84    7.29    7.76    8.25\n",
            "   8.76    9.29    9.84   10.41   11.     11.61   12.24   12.89   13.56\n",
            "  14.25   14.96   15.69   16.44   17.21   18.     18.78   19.52   20.22\n",
            "  20.88   21.5    22.08   22.62   23.12   23.58   24.     24.38   24.72\n",
            "  25.02   25.28   25.5    25.68   25.82   25.92   25.98   26.     25.98\n",
            "  25.92   25.82   25.68   25.5    25.28   25.02   24.72   24.38   24.\n",
            "  23.58   23.12   22.62   22.08   21.5    20.88   20.22   19.52   18.78\n",
            "  18.     17.18   16.32   15.42   14.48   13.5    12.48   11.42   10.32\n",
            "   9.18    8.      6.815   5.66    4.535   3.44    2.375   1.34    0.335\n",
            "  -0.64   -1.585  -2.5    -3.385  -4.24   -5.065  -5.86   -6.625  -7.36\n",
            "  -8.065  -8.74   -9.385 -10.    -10.585 -11.14  -11.665 -12.16  -12.625\n",
            " -13.06  -13.465 -13.84  -14.185 -14.5   -14.785 -15.04  -15.265 -15.46\n",
            " -15.625 -15.76  -15.865 -15.94  -15.985 -16.    -15.985 -15.94  -15.865\n",
            " -15.76  -15.625 -15.46  -15.265 -15.04  -14.785 -14.5  ]\n",
            "[ -2.   -1.8  -1.6  -1.4  -1.2  -1.   -0.8  -0.6  -0.4  -0.2   0.    0.2\n",
            "   0.4   0.6   0.8   1.    1.2   1.4   1.6   1.8   2.    2.2   2.4   2.6\n",
            "   2.8   3.    3.2   3.4   3.6   3.8   4.    4.2   4.4   4.6   4.8   5.\n",
            "   5.2   5.4   5.6   5.8   6.    6.2   6.4   6.6   6.8   7.    7.2   7.4\n",
            "   7.6   7.8   8.    7.6   7.2   6.8   6.4   6.    5.6   5.2   4.8   4.4\n",
            "   4.    3.6   3.2   2.8   2.4   2.    1.6   1.2   0.8   0.4   0.   -0.4\n",
            "  -0.8  -1.2  -1.6  -2.   -2.4  -2.8  -3.2  -3.6  -4.   -4.4  -4.8  -5.2\n",
            "  -5.6  -6.   -6.4  -6.8  -7.2  -7.6  -8.   -8.4  -8.8  -9.2  -9.6 -10.\n",
            " -10.4 -10.8 -11.2 -11.6 -12.  -11.7 -11.4 -11.1 -10.8 -10.5 -10.2  -9.9\n",
            "  -9.6  -9.3  -9.   -8.7  -8.4  -8.1  -7.8  -7.5  -7.2  -6.9  -6.6  -6.3\n",
            "  -6.   -5.7  -5.4  -5.1  -4.8  -4.5  -4.2  -3.9  -3.6  -3.3  -3.   -2.7\n",
            "  -2.4  -2.1  -1.8  -1.5  -1.2  -0.9  -0.6  -0.3   0.    0.3   0.6   0.9\n",
            "   1.2   1.5   1.8   2.1   2.4   2.7   3. ]\n"
          ]
        }
      ],
      "source": [
        "# Your code here if you choose so.\n",
        "x = np.zeros(151)\n",
        "v = np.zeros(151)\n",
        "x[0] = 3\n",
        "v[0] = -2\n",
        "tt = np.zeros(151)\n",
        "tt[0] = 0\n",
        "i = 0\n",
        "for t in np.arange(0.1,15.1,0.1):\n",
        "  if t <= 5:\n",
        "    a = 2\n",
        "    x[i+1], v[i+1] = kinematic_eqs(t, x[0], v[0], a)\n",
        "  elif 5 < t <= 10:\n",
        "    a = -4\n",
        "    x[i+1], v[i+1] = kinematic_eqs(t-5, x[50], v[50], a)\n",
        "  elif 10 < t <= 15:\n",
        "    a = 3\n",
        "    x[i+1], v[i+1] = kinematic_eqs(t-10, x[100], v[100], a)\n",
        "  # if t < 15.1:\n",
        "  tt[i+1] = t\n",
        "  i += 1\n",
        "\n",
        "print(x)\n",
        "print(v)"
      ]
    },
    {
      "cell_type": "code",
      "execution_count": 167,
      "id": "LD0_kei1owf2",
      "metadata": {
        "colab": {
          "base_uri": "https://localhost:8080/",
          "height": 265
        },
        "id": "LD0_kei1owf2",
        "outputId": "618391e1-d65e-46bb-d518-3c031aa689f8"
      },
      "outputs": [
        {
          "data": {
            "image/png": "[encoded data removed]",
            "text/plain": [
              "<Figure size 432x288 with 1 Axes>"
            ]
          },
          "metadata": {
            "image/png": {
              "height": 248,
              "width": 377
            },
            "needs_background": "light"
          },
          "output_type": "display_data"
        }
      ],
      "source": [
        "plt.plot(tt, x)\n",
        "plt.show()"
      ]
    },
    {
      "cell_type": "code",
      "execution_count": 167,
      "id": "IQDLpwRGvgv0",
      "metadata": {
        "id": "IQDLpwRGvgv0"
      },
      "outputs": [],
      "source": []
    },
    {
      "cell_type": "code",
      "execution_count": 168,
      "id": "PLR8ZX2So8hR",
      "metadata": {
        "colab": {
          "base_uri": "https://localhost:8080/"
        },
        "id": "PLR8ZX2So8hR",
        "outputId": "72ad2e58-e8fe-4756-8b5c-3d3e06c7aac6"
      },
      "outputs": [
        {
          "name": "stdout",
          "output_type": "stream",
          "text": [
            "18.0\n",
            "8.0\n"
          ]
        }
      ],
      "source": [
        "# 1.b\n",
        "print(x[50])\n",
        "print(v[50])"
      ]
    },
    {
      "cell_type": "code",
      "execution_count": 169,
      "id": "6Er6T5NSo-Om",
      "metadata": {
        "colab": {
          "base_uri": "https://localhost:8080/"
        },
        "id": "6Er6T5NSo-Om",
        "outputId": "468e5cdd-8254-4931-e6d0-28e9754d9b0e"
      },
      "outputs": [
        {
          "name": "stdout",
          "output_type": "stream",
          "text": [
            "8.0\n",
            "-12.0\n"
          ]
        }
      ],
      "source": [
        "print(x[100])\n",
        "print(v[100])"
      ]
    },
    {
      "cell_type": "code",
      "execution_count": 170,
      "id": "CNuIGPMmo-iL",
      "metadata": {
        "colab": {
          "base_uri": "https://localhost:8080/"
        },
        "id": "CNuIGPMmo-iL",
        "outputId": "9c396bc7-0c95-4b9c-f8c7-5215483ed1d5"
      },
      "outputs": [
        {
          "name": "stdout",
          "output_type": "stream",
          "text": [
            "-14.5\n",
            "3.0\n"
          ]
        }
      ],
      "source": [
        "print(x[150])\n",
        "print(v[150])"
      ]
    },
    {
      "cell_type": "markdown",
      "id": "38b7fffb-4b0c-4426-87aa-98cebd42e200",
      "metadata": {
        "id": "38b7fffb-4b0c-4426-87aa-98cebd42e200"
      },
      "source": [
        "### 1.c Define a numpy array of times called `t` with values from [0, 15] with a step ($\\Delta t$) of 0.1. (2 pts)\n",
        "\n",
        "Hint: Remember that the stop value isn't the end value."
      ]
    },
    {
      "cell_type": "code",
      "execution_count": 171,
      "id": "1ecde134-5dd3-4be6-833a-9333aaff6792",
      "metadata": {
        "colab": {
          "base_uri": "https://localhost:8080/"
        },
        "id": "1ecde134-5dd3-4be6-833a-9333aaff6792",
        "outputId": "6a7143bc-808f-4148-85ed-4b1ecaa7d950"
      },
      "outputs": [
        {
          "name": "stdout",
          "output_type": "stream",
          "text": [
            "[ 0.   0.1  0.2  0.3  0.4  0.5  0.6  0.7  0.8  0.9  1.   1.1  1.2  1.3\n",
            "  1.4  1.5  1.6  1.7  1.8  1.9  2.   2.1  2.2  2.3  2.4  2.5  2.6  2.7\n",
            "  2.8  2.9  3.   3.1  3.2  3.3  3.4  3.5  3.6  3.7  3.8  3.9  4.   4.1\n",
            "  4.2  4.3  4.4  4.5  4.6  4.7  4.8  4.9  5.   5.1  5.2  5.3  5.4  5.5\n",
            "  5.6  5.7  5.8  5.9  6.   6.1  6.2  6.3  6.4  6.5  6.6  6.7  6.8  6.9\n",
            "  7.   7.1  7.2  7.3  7.4  7.5  7.6  7.7  7.8  7.9  8.   8.1  8.2  8.3\n",
            "  8.4  8.5  8.6  8.7  8.8  8.9  9.   9.1  9.2  9.3  9.4  9.5  9.6  9.7\n",
            "  9.8  9.9 10.  10.1 10.2 10.3 10.4 10.5 10.6 10.7 10.8 10.9 11.  11.1\n",
            " 11.2 11.3 11.4 11.5 11.6 11.7 11.8 11.9 12.  12.1 12.2 12.3 12.4 12.5\n",
            " 12.6 12.7 12.8 12.9 13.  13.1 13.2 13.3 13.4 13.5 13.6 13.7 13.8 13.9\n",
            " 14.  14.1 14.2 14.3 14.4 14.5 14.6 14.7 14.8 14.9 15. ]\n"
          ]
        }
      ],
      "source": [
        "# Your code here.\n",
        "t = np.arange(0,15.1,0.1)\n",
        "print(t)"
      ]
    },
    {
      "cell_type": "markdown",
      "id": "618b13bc-41c1-419b-a5a8-51165da4f22d",
      "metadata": {
        "id": "618b13bc-41c1-419b-a5a8-51165da4f22d"
      },
      "source": [
        "### 1.d Initialize two numpy arrays that have same length as `t` with zeros. Call them `x` and `v`. (2 pts)"
      ]
    },
    {
      "cell_type": "code",
      "execution_count": 172,
      "id": "10912f06-3531-45f8-9fa6-f537a1b6878d",
      "metadata": {
        "colab": {
          "base_uri": "https://localhost:8080/"
        },
        "id": "10912f06-3531-45f8-9fa6-f537a1b6878d",
        "outputId": "a6b82b34-c31a-4a7f-a0a4-610b61f75fbf"
      },
      "outputs": [
        {
          "name": "stdout",
          "output_type": "stream",
          "text": [
            "[0. 0. 0. 0. 0. 0. 0. 0. 0. 0. 0. 0. 0. 0. 0. 0. 0. 0. 0. 0. 0. 0. 0. 0.\n",
            " 0. 0. 0. 0. 0. 0. 0. 0. 0. 0. 0. 0. 0. 0. 0. 0. 0. 0. 0. 0. 0. 0. 0. 0.\n",
            " 0. 0. 0. 0. 0. 0. 0. 0. 0. 0. 0. 0. 0. 0. 0. 0. 0. 0. 0. 0. 0. 0. 0. 0.\n",
            " 0. 0. 0. 0. 0. 0. 0. 0. 0. 0. 0. 0. 0. 0. 0. 0. 0. 0. 0. 0. 0. 0. 0. 0.\n",
            " 0. 0. 0. 0. 0. 0. 0. 0. 0. 0. 0. 0. 0. 0. 0. 0. 0. 0. 0. 0. 0. 0. 0. 0.\n",
            " 0. 0. 0. 0. 0. 0. 0. 0. 0. 0. 0. 0. 0. 0. 0. 0. 0. 0. 0. 0. 0. 0. 0. 0.\n",
            " 0. 0. 0. 0. 0. 0. 0.]\n",
            "[0. 0. 0. 0. 0. 0. 0. 0. 0. 0. 0. 0. 0. 0. 0. 0. 0. 0. 0. 0. 0. 0. 0. 0.\n",
            " 0. 0. 0. 0. 0. 0. 0. 0. 0. 0. 0. 0. 0. 0. 0. 0. 0. 0. 0. 0. 0. 0. 0. 0.\n",
            " 0. 0. 0. 0. 0. 0. 0. 0. 0. 0. 0. 0. 0. 0. 0. 0. 0. 0. 0. 0. 0. 0. 0. 0.\n",
            " 0. 0. 0. 0. 0. 0. 0. 0. 0. 0. 0. 0. 0. 0. 0. 0. 0. 0. 0. 0. 0. 0. 0. 0.\n",
            " 0. 0. 0. 0. 0. 0. 0. 0. 0. 0. 0. 0. 0. 0. 0. 0. 0. 0. 0. 0. 0. 0. 0. 0.\n",
            " 0. 0. 0. 0. 0. 0. 0. 0. 0. 0. 0. 0. 0. 0. 0. 0. 0. 0. 0. 0. 0. 0. 0. 0.\n",
            " 0. 0. 0. 0. 0. 0. 0.]\n"
          ]
        }
      ],
      "source": [
        "# Your code here.\n",
        "n = len(t)\n",
        "x = np.zeros(n)\n",
        "v = np.zeros(n)\n",
        "print(x)\n",
        "print(v)"
      ]
    },
    {
      "cell_type": "markdown",
      "id": "4a55f464-a4cb-4751-beca-f723b005d536",
      "metadata": {
        "id": "4a55f464-a4cb-4751-beca-f723b005d536"
      },
      "source": [
        "### 1.e Set the zeroth entries of `x` to $x_i$ as given above and `v` to $v_i$ as given above. (1 pt)"
      ]
    },
    {
      "cell_type": "code",
      "execution_count": 173,
      "id": "7e7d8ffa-8fd0-4d09-9379-2ac023f1f285",
      "metadata": {
        "id": "7e7d8ffa-8fd0-4d09-9379-2ac023f1f285"
      },
      "outputs": [],
      "source": [
        "# Your code here.\n",
        "x[0] = 3\n",
        "v[0] = -2"
      ]
    },
    {
      "cell_type": "markdown",
      "id": "22932ae6-6b36-49d9-a6b0-69e2c607c1eb",
      "metadata": {
        "id": "22932ae6-6b36-49d9-a6b0-69e2c607c1eb"
      },
      "source": [
        "### 1.f Create a numpy array called `accel` containing the three accelerations above. They should be ordered in the same fashion as they are above. (1 pt)"
      ]
    },
    {
      "cell_type": "code",
      "execution_count": 174,
      "id": "097c0154-bf95-41ba-98e4-b1deaa078f4e",
      "metadata": {
        "id": "097c0154-bf95-41ba-98e4-b1deaa078f4e"
      },
      "outputs": [],
      "source": [
        "# Your code here.\n",
        "accel = np.array([2, -4, 3])"
      ]
    },
    {
      "cell_type": "markdown",
      "id": "8102ae45-8641-4664-8764-9d979407243e",
      "metadata": {
        "id": "8102ae45-8641-4664-8764-9d979407243e"
      },
      "source": [
        "### 1.g Obtain $x(t)$, and $v(t)$ for $t \\in [0, 5]$ using `kinematic_eqs`. Instead of using `t` defined above, create another numpy array called `t_5` that contains values `[0, 5]` with step 0.1. Use as your function inputs `t_5`, `x[0]`, `v[0]`, `accel[0]`. Save your outputs to the proper locations in `x` and `v`. (4 pts)\n",
        "\n",
        "Hint: `t_5` should include the value 5."
      ]
    },
    {
      "cell_type": "code",
      "execution_count": 175,
      "id": "e3763940-deed-4578-b734-a0bd379df32b",
      "metadata": {
        "colab": {
          "base_uri": "https://localhost:8080/"
        },
        "id": "e3763940-deed-4578-b734-a0bd379df32b",
        "outputId": "939bdb45-eb15-4fb3-9967-23a68694923f"
      },
      "outputs": [
        {
          "name": "stdout",
          "output_type": "stream",
          "text": [
            "[ 3.    2.81  2.64  2.49  2.36  2.25  2.16  2.09  2.04  2.01  2.    2.01\n",
            "  2.04  2.09  2.16  2.25  2.36  2.49  2.64  2.81  3.    3.21  3.44  3.69\n",
            "  3.96  4.25  4.56  4.89  5.24  5.61  6.    6.41  6.84  7.29  7.76  8.25\n",
            "  8.76  9.29  9.84 10.41 11.   11.61 12.24 12.89 13.56 14.25 14.96 15.69\n",
            " 16.44 17.21 18.    0.    0.    0.    0.    0.    0.    0.    0.    0.\n",
            "  0.    0.    0.    0.    0.    0.    0.    0.    0.    0.    0.    0.\n",
            "  0.    0.    0.    0.    0.    0.    0.    0.    0.    0.    0.    0.\n",
            "  0.    0.    0.    0.    0.    0.    0.    0.    0.    0.    0.    0.\n",
            "  0.    0.    0.    0.    0.    0.    0.    0.    0.    0.    0.    0.\n",
            "  0.    0.    0.    0.    0.    0.    0.    0.    0.    0.    0.    0.\n",
            "  0.    0.    0.    0.    0.    0.    0.    0.    0.    0.    0.    0.\n",
            "  0.    0.    0.    0.    0.    0.    0.    0.    0.    0.    0.    0.\n",
            "  0.    0.    0.    0.    0.    0.    0.  ]\n",
            "[-2.  -1.8 -1.6 -1.4 -1.2 -1.  -0.8 -0.6 -0.4 -0.2  0.   0.2  0.4  0.6\n",
            "  0.8  1.   1.2  1.4  1.6  1.8  2.   2.2  2.4  2.6  2.8  3.   3.2  3.4\n",
            "  3.6  3.8  4.   4.2  4.4  4.6  4.8  5.   5.2  5.4  5.6  5.8  6.   6.2\n",
            "  6.4  6.6  6.8  7.   7.2  7.4  7.6  7.8  8.   0.   0.   0.   0.   0.\n",
            "  0.   0.   0.   0.   0.   0.   0.   0.   0.   0.   0.   0.   0.   0.\n",
            "  0.   0.   0.   0.   0.   0.   0.   0.   0.   0.   0.   0.   0.   0.\n",
            "  0.   0.   0.   0.   0.   0.   0.   0.   0.   0.   0.   0.   0.   0.\n",
            "  0.   0.   0.   0.   0.   0.   0.   0.   0.   0.   0.   0.   0.   0.\n",
            "  0.   0.   0.   0.   0.   0.   0.   0.   0.   0.   0.   0.   0.   0.\n",
            "  0.   0.   0.   0.   0.   0.   0.   0.   0.   0.   0.   0.   0.   0.\n",
            "  0.   0.   0.   0.   0.   0.   0.   0.   0.   0.   0. ]\n"
          ]
        }
      ],
      "source": [
        "t_5 = np.arange(0,5.1,0.1)\n",
        "lower_idx = t_5[0]\n",
        "lower_idx = int(lower_idx*10)\n",
        "upper_idx = t_5[-1]\n",
        "upper_idx = int(upper_idx*10)+1\n",
        "\n",
        "x[lower_idx:upper_idx], v[lower_idx:upper_idx] = kinematic_eqs(t_5, x[0], v[0], accel[0])\n",
        "print(x)\n",
        "print(v)"
      ]
    },
    {
      "cell_type": "markdown",
      "id": "cca122fc-5e3b-4949-a5fc-0e85d80698d0",
      "metadata": {
        "id": "cca122fc-5e3b-4949-a5fc-0e85d80698d0"
      },
      "source": [
        "### 1.h Repeat 1.g but for the first and second acceleration changes. Make sure you are saving the outputs to `x` and `v` correctly. (4 pts)\n",
        "\n",
        "Hint: at what indices in the numpy arrays should $x(5)$, $x(10)$, and $x(15)$ be saved?"
      ]
    },
    {
      "cell_type": "code",
      "execution_count": 176,
      "id": "de8bddc1-ef45-40b4-944d-58a43c807cad",
      "metadata": {
        "colab": {
          "base_uri": "https://localhost:8080/"
        },
        "id": "de8bddc1-ef45-40b4-944d-58a43c807cad",
        "outputId": "61d4e64a-e364-4d33-d41f-92d37a051871"
      },
      "outputs": [
        {
          "name": "stdout",
          "output_type": "stream",
          "text": [
            "[  3.      2.81    2.64    2.49    2.36    2.25    2.16    2.09    2.04\n",
            "   2.01    2.      2.01    2.04    2.09    2.16    2.25    2.36    2.49\n",
            "   2.64    2.81    3.      3.21    3.44    3.69    3.96    4.25    4.56\n",
            "   4.89    5.24    5.61    6.      6.41    6.84    7.29    7.76    8.25\n",
            "   8.76    9.29    9.84   10.41   11.     11.61   12.24   12.89   13.56\n",
            "  14.25   14.96   15.69   16.44   17.21   18.     18.78   19.52   20.22\n",
            "  20.88   21.5    22.08   22.62   23.12   23.58   24.     24.38   24.72\n",
            "  25.02   25.28   25.5    25.68   25.82   25.92   25.98   26.     25.98\n",
            "  25.92   25.82   25.68   25.5    25.28   25.02   24.72   24.38   24.\n",
            "  23.58   23.12   22.62   22.08   21.5    20.88   20.22   19.52   18.78\n",
            "  18.     17.18   16.32   15.42   14.48   13.5    12.48   11.42   10.32\n",
            "   9.18    8.      6.815   5.66    4.535   3.44    2.375   1.34    0.335\n",
            "  -0.64   -1.585  -2.5    -3.385  -4.24   -5.065  -5.86   -6.625  -7.36\n",
            "  -8.065  -8.74   -9.385 -10.    -10.585 -11.14  -11.665 -12.16  -12.625\n",
            " -13.06  -13.465 -13.84  -14.185 -14.5   -14.785 -15.04  -15.265 -15.46\n",
            " -15.625 -15.76  -15.865 -15.94  -15.985 -16.    -15.985 -15.94  -15.865\n",
            " -15.76  -15.625 -15.46  -15.265 -15.04  -14.785 -14.5  ]\n",
            "[ -2.   -1.8  -1.6  -1.4  -1.2  -1.   -0.8  -0.6  -0.4  -0.2   0.    0.2\n",
            "   0.4   0.6   0.8   1.    1.2   1.4   1.6   1.8   2.    2.2   2.4   2.6\n",
            "   2.8   3.    3.2   3.4   3.6   3.8   4.    4.2   4.4   4.6   4.8   5.\n",
            "   5.2   5.4   5.6   5.8   6.    6.2   6.4   6.6   6.8   7.    7.2   7.4\n",
            "   7.6   7.8   8.    7.6   7.2   6.8   6.4   6.    5.6   5.2   4.8   4.4\n",
            "   4.    3.6   3.2   2.8   2.4   2.    1.6   1.2   0.8   0.4   0.   -0.4\n",
            "  -0.8  -1.2  -1.6  -2.   -2.4  -2.8  -3.2  -3.6  -4.   -4.4  -4.8  -5.2\n",
            "  -5.6  -6.   -6.4  -6.8  -7.2  -7.6  -8.   -8.4  -8.8  -9.2  -9.6 -10.\n",
            " -10.4 -10.8 -11.2 -11.6 -12.  -11.7 -11.4 -11.1 -10.8 -10.5 -10.2  -9.9\n",
            "  -9.6  -9.3  -9.   -8.7  -8.4  -8.1  -7.8  -7.5  -7.2  -6.9  -6.6  -6.3\n",
            "  -6.   -5.7  -5.4  -5.1  -4.8  -4.5  -4.2  -3.9  -3.6  -3.3  -3.   -2.7\n",
            "  -2.4  -2.1  -1.8  -1.5  -1.2  -0.9  -0.6  -0.3   0.    0.3   0.6   0.9\n",
            "   1.2   1.5   1.8   2.1   2.4   2.7   3. ]\n"
          ]
        }
      ],
      "source": [
        "lower_idx_1 = 5\n",
        "lower_idx_1 = int(lower_idx_1*10)\n",
        "\n",
        "upper_idx_1 = 10.1\n",
        "upper_idx_1 = int(upper_idx_1*10)\n",
        "x[lower_idx_1:upper_idx_1], v[lower_idx_1:upper_idx_1] = kinematic_eqs(t_5, x[lower_idx_1], v[lower_idx_1], accel[1])\n",
        "\n",
        "lower_idx_2 = 10\n",
        "lower_idx_2 = int(lower_idx_2*10)\n",
        "\n",
        "upper_idx_2 = 15.1\n",
        "upper_idx_2 = int(upper_idx_2*10)\n",
        "x[lower_idx_2:upper_idx_2], v[lower_idx_2:upper_idx_2] = kinematic_eqs(t_5, x[lower_idx_2], v[lower_idx_2], accel[2])\n",
        "\n",
        "print(x)\n",
        "print(v)"
      ]
    },
    {
      "cell_type": "markdown",
      "id": "a4bf06cd-d99e-43e6-9ab5-1c3bdbe8169b",
      "metadata": {
        "id": "a4bf06cd-d99e-43e6-9ab5-1c3bdbe8169b"
      },
      "source": [
        "### 1.i Print the values of $x(t=5)$, $x(t=10)$, $x(t=15)$, $v(t=5)$, $v(t=10)$, $v(t=15)$. They should agree with your answer for 1.b. If they do not agree, you have bugs in your code and should not move on until they are corrected. (1 pt)"
      ]
    },
    {
      "cell_type": "code",
      "execution_count": 177,
      "id": "e5e5ee91-70e3-4a66-8431-5fb929cd3ad2",
      "metadata": {
        "colab": {
          "base_uri": "https://localhost:8080/"
        },
        "id": "e5e5ee91-70e3-4a66-8431-5fb929cd3ad2",
        "outputId": "b3cefee5-2459-4ff2-ac47-817cefcb322b"
      },
      "outputs": [
        {
          "name": "stdout",
          "output_type": "stream",
          "text": [
            "18.0\n",
            "8.0\n"
          ]
        }
      ],
      "source": [
        "# Your code here.\n",
        "x_5_1, v_5_1 = x[50], v[50]\n",
        "print(x_5_1)\n",
        "print(v_5_1)"
      ]
    },
    {
      "cell_type": "code",
      "execution_count": 178,
      "id": "XZQj1nM3wQ8L",
      "metadata": {
        "colab": {
          "base_uri": "https://localhost:8080/"
        },
        "id": "XZQj1nM3wQ8L",
        "outputId": "ec4f133a-8528-4cdc-a4e5-015921fc267e"
      },
      "outputs": [
        {
          "name": "stdout",
          "output_type": "stream",
          "text": [
            "8.0\n",
            "-12.0\n"
          ]
        }
      ],
      "source": [
        "x_10_1, v_10_1 = x[100], v[100]\n",
        "print(x_10_1)\n",
        "print(v_10_1)"
      ]
    },
    {
      "cell_type": "code",
      "execution_count": null,
      "id": "FF8-agYIwXw7",
      "metadata": {
        "colab": {
          "base_uri": "https://localhost:8080/"
        },
        "id": "FF8-agYIwXw7",
        "outputId": "65a9429f-3f34-4bda-d640-4094850ef114"
      },
      "outputs": [
        {
          "name": "stdout",
          "output_type": "stream",
          "text": [
            "-14.5\n",
            "3.0\n"
          ]
        }
      ],
      "source": [
        "x_15_1, v_15_1 = x[150], v[150]\n",
        "print(x_15_1)\n",
        "print(v_15_1)"
      ]
    },
    {
      "cell_type": "markdown",
      "id": "a74cdfa7-b820-4d93-a9f6-42daf0c5a05e",
      "metadata": {
        "id": "a74cdfa7-b820-4d93-a9f6-42daf0c5a05e"
      },
      "source": [
        "### 1.j Create two new numpy arrays with zeros called `x_for` and `v_for` with the same length as `t`. Set the zeroth entries of `x_for` to $x_i$ as given above and `v_for` to $v_i$ as given above.  (2 pts)"
      ]
    },
    {
      "cell_type": "code",
      "execution_count": null,
      "id": "d1903ccc-37c7-44c1-bb77-de70dba68e6e",
      "metadata": {
        "colab": {
          "base_uri": "https://localhost:8080/"
        },
        "id": "d1903ccc-37c7-44c1-bb77-de70dba68e6e",
        "outputId": "694e5d42-d4c6-4e63-c422-9474fd01c4d9"
      },
      "outputs": [
        {
          "name": "stdout",
          "output_type": "stream",
          "text": [
            "[3. 0. 0. 0. 0. 0. 0. 0. 0. 0. 0. 0. 0. 0. 0. 0. 0. 0. 0. 0. 0. 0. 0. 0.\n",
            " 0. 0. 0. 0. 0. 0. 0. 0. 0. 0. 0. 0. 0. 0. 0. 0. 0. 0. 0. 0. 0. 0. 0. 0.\n",
            " 0. 0. 0. 0. 0. 0. 0. 0. 0. 0. 0. 0. 0. 0. 0. 0. 0. 0. 0. 0. 0. 0. 0. 0.\n",
            " 0. 0. 0. 0. 0. 0. 0. 0. 0. 0. 0. 0. 0. 0. 0. 0. 0. 0. 0. 0. 0. 0. 0. 0.\n",
            " 0. 0. 0. 0. 0. 0. 0. 0. 0. 0. 0. 0. 0. 0. 0. 0. 0. 0. 0. 0. 0. 0. 0. 0.\n",
            " 0. 0. 0. 0. 0. 0. 0. 0. 0. 0. 0. 0. 0. 0. 0. 0. 0. 0. 0. 0. 0. 0. 0. 0.\n",
            " 0. 0. 0. 0. 0. 0. 0.]\n",
            "[-2.  0.  0.  0.  0.  0.  0.  0.  0.  0.  0.  0.  0.  0.  0.  0.  0.  0.\n",
            "  0.  0.  0.  0.  0.  0.  0.  0.  0.  0.  0.  0.  0.  0.  0.  0.  0.  0.\n",
            "  0.  0.  0.  0.  0.  0.  0.  0.  0.  0.  0.  0.  0.  0.  0.  0.  0.  0.\n",
            "  0.  0.  0.  0.  0.  0.  0.  0.  0.  0.  0.  0.  0.  0.  0.  0.  0.  0.\n",
            "  0.  0.  0.  0.  0.  0.  0.  0.  0.  0.  0.  0.  0.  0.  0.  0.  0.  0.\n",
            "  0.  0.  0.  0.  0.  0.  0.  0.  0.  0.  0.  0.  0.  0.  0.  0.  0.  0.\n",
            "  0.  0.  0.  0.  0.  0.  0.  0.  0.  0.  0.  0.  0.  0.  0.  0.  0.  0.\n",
            "  0.  0.  0.  0.  0.  0.  0.  0.  0.  0.  0.  0.  0.  0.  0.  0.  0.  0.\n",
            "  0.  0.  0.  0.  0.  0.  0.]\n"
          ]
        }
      ],
      "source": [
        "# Your code here.\n",
        "n = len(t)\n",
        "x_for = np.zeros(n)\n",
        "v_for = np.zeros(n)\n",
        "x_for[0] = 3\n",
        "v_for[0] = -2\n",
        "print(x_for)\n",
        "print(v_for)"
      ]
    },
    {
      "cell_type": "markdown",
      "id": "332b49d8-fd3d-44c0-874b-0d83b6167f88",
      "metadata": {
        "id": "332b49d8-fd3d-44c0-874b-0d83b6167f88"
      },
      "source": [
        "### 1.k Repeat 1.g and 1.h but instead use a for loop. (5 pts)\n",
        "\n",
        "Hint: find the pattern in the lower and upper indices that you used in 1.h to save the outputs to `x` and `v`."
      ]
    },
    {
      "cell_type": "code",
      "execution_count": 190,
      "id": "0800fbc2-35d7-4378-a92e-b2aee7552509",
      "metadata": {
        "colab": {
          "base_uri": "https://localhost:8080/"
        },
        "id": "0800fbc2-35d7-4378-a92e-b2aee7552509",
        "outputId": "9f58e3a8-1cc2-4036-d75e-b435c4cdba61"
      },
      "outputs": [
        {
          "name": "stdout",
          "output_type": "stream",
          "text": [
            "[0.  0.1 0.2 0.3 0.4 0.5 0.6 0.7 0.8 0.9 1.  1.1 1.2 1.3 1.4 1.5 1.6 1.7\n",
            " 1.8 1.9 2.  2.1 2.2 2.3 2.4 2.5 2.6 2.7 2.8 2.9 3.  3.1 3.2 3.3 3.4 3.5\n",
            " 3.6 3.7 3.8 3.9 4.  4.1 4.2 4.3 4.4 4.5 4.6 4.7 4.8 4.9 5. ]\n",
            "[  3.      2.81    2.64    2.49    2.36    2.25    2.16    2.09    2.04\n",
            "   2.01    2.      2.01    2.04    2.09    2.16    2.25    2.36    2.49\n",
            "   2.64    2.81    3.      3.21    3.44    3.69    3.96    4.25    4.56\n",
            "   4.89    5.24    5.61    6.      6.41    6.84    7.29    7.76    8.25\n",
            "   8.76    9.29    9.84   10.41   11.     11.61   12.24   12.89   13.56\n",
            "  14.25   14.96   15.69   16.44   17.21   18.     18.78   19.52   20.22\n",
            "  20.88   21.5    22.08   22.62   23.12   23.58   24.     24.38   24.72\n",
            "  25.02   25.28   25.5    25.68   25.82   25.92   25.98   26.     25.98\n",
            "  25.92   25.82   25.68   25.5    25.28   25.02   24.72   24.38   24.\n",
            "  23.58   23.12   22.62   22.08   21.5    20.88   20.22   19.52   18.78\n",
            "  18.     17.18   16.32   15.42   14.48   13.5    12.48   11.42   10.32\n",
            "   9.18    8.      6.815   5.66    4.535   3.44    2.375   1.34    0.335\n",
            "  -0.64   -1.585  -2.5    -3.385  -4.24   -5.065  -5.86   -6.625  -7.36\n",
            "  -8.065  -8.74   -9.385 -10.    -10.585 -11.14  -11.665 -12.16  -12.625\n",
            " -13.06  -13.465 -13.84  -14.185 -14.5   -14.785 -15.04  -15.265 -15.46\n",
            " -15.625 -15.76  -15.865 -15.94  -15.985 -16.    -15.985 -15.94  -15.865\n",
            " -15.76  -15.625 -15.46  -15.265 -15.04  -14.785 -14.5  ]\n",
            "[ -2.   -1.8  -1.6  -1.4  -1.2  -1.   -0.8  -0.6  -0.4  -0.2   0.    0.2\n",
            "   0.4   0.6   0.8   1.    1.2   1.4   1.6   1.8   2.    2.2   2.4   2.6\n",
            "   2.8   3.    3.2   3.4   3.6   3.8   4.    4.2   4.4   4.6   4.8   5.\n",
            "   5.2   5.4   5.6   5.8   6.    6.2   6.4   6.6   6.8   7.    7.2   7.4\n",
            "   7.6   7.8   8.    7.6   7.2   6.8   6.4   6.    5.6   5.2   4.8   4.4\n",
            "   4.    3.6   3.2   2.8   2.4   2.    1.6   1.2   0.8   0.4   0.   -0.4\n",
            "  -0.8  -1.2  -1.6  -2.   -2.4  -2.8  -3.2  -3.6  -4.   -4.4  -4.8  -5.2\n",
            "  -5.6  -6.   -6.4  -6.8  -7.2  -7.6  -8.   -8.4  -8.8  -9.2  -9.6 -10.\n",
            " -10.4 -10.8 -11.2 -11.6 -12.  -11.7 -11.4 -11.1 -10.8 -10.5 -10.2  -9.9\n",
            "  -9.6  -9.3  -9.   -8.7  -8.4  -8.1  -7.8  -7.5  -7.2  -6.9  -6.6  -6.3\n",
            "  -6.   -5.7  -5.4  -5.1  -4.8  -4.5  -4.2  -3.9  -3.6  -3.3  -3.   -2.7\n",
            "  -2.4  -2.1  -1.8  -1.5  -1.2  -0.9  -0.6  -0.3   0.    0.3   0.6   0.9\n",
            "   1.2   1.5   1.8   2.1   2.4   2.7   3. ]\n"
          ]
        }
      ],
      "source": [
        "print(t_5)\n",
        "for i in range(3):\n",
        "    lower_idx = i*50\n",
        "    upper_idx = (i+1)*50+1\n",
        "    x_for[lower_idx:upper_idx], v_for[lower_idx:upper_idx] = kinematic_eqs(t_5, x[lower_idx], v[lower_idx], accel[i])\n",
        "  \n",
        "print(x_for)\n",
        "print(v_for)"
      ]
    },
    {
      "cell_type": "markdown",
      "id": "a6065dfc-6a23-4192-a91d-04802c2d531a",
      "metadata": {
        "id": "a6065dfc-6a23-4192-a91d-04802c2d531a"
      },
      "source": [
        "### 1.l Determine whether all entries in `x` are equal to those in `x_for`. Do the same for `v` and `v_for`. If these are not equal, then you did 1.j incorrectly and will lose points there. (2 pt)\n",
        "\n",
        "Hint: use `np.all` to see if all entries in the resulting numpy boolean array are true and `print` the output from `np.all`."
      ]
    },
    {
      "cell_type": "code",
      "execution_count": 191,
      "id": "a87776f1-85af-45ac-ab01-6ef313933a3d",
      "metadata": {
        "colab": {
          "base_uri": "https://localhost:8080/"
        },
        "id": "a87776f1-85af-45ac-ab01-6ef313933a3d",
        "outputId": "47992893-14a5-43fa-8203-0ccc8a617dbc"
      },
      "outputs": [
        {
          "data": {
            "text/plain": [
              "True"
            ]
          },
          "execution_count": 191,
          "metadata": {},
          "output_type": "execute_result"
        }
      ],
      "source": [
        "# Your code here.\n",
        "(x == x_for).all()"
      ]
    },
    {
      "cell_type": "markdown",
      "id": "b98e8244-9fd3-4a4e-adb3-5c4ebbac43e1",
      "metadata": {
        "id": "b98e8244-9fd3-4a4e-adb3-5c4ebbac43e1"
      },
      "source": [
        "### 1.m Plot the following and label the x and y axis appropriately with the quantity and unit being plotted on each axes object (15 pts):\n",
        "\n",
        "- $x(t)$ vs. $t$\n",
        "- $v(t)$ vs. $t$\n",
        "- $v(t)$ vs. $x(t)$\n",
        "\n",
        "Hints: \n",
        "- `fig, axes = plt.subplots(ncols=3, figsize=(9, 3))` and then use `axes[i].plot` where `i` is 0, 1, or 2.\n",
        "- Don't forget `fig.tight_layout()` and `plt.show()`\n",
        "\n"
      ]
    },
    {
      "cell_type": "code",
      "execution_count": 192,
      "id": "92765a4e-1e92-4b19-b843-0ecedcb76817",
      "metadata": {
        "colab": {
          "base_uri": "https://localhost:8080/",
          "height": 225
        },
        "id": "92765a4e-1e92-4b19-b843-0ecedcb76817",
        "outputId": "2afcdeee-6562-43dd-f580-7d747719029d"
      },
      "outputs": [
        {
          "data": {
            "image/png": "[encoded data removed]",
            "text/plain": [
              "<Figure size 648x216 with 3 Axes>"
            ]
          },
          "metadata": {
            "image/png": {
              "height": 208,
              "width": 640
            },
            "needs_background": "light"
          },
          "output_type": "display_data"
        }
      ],
      "source": [
        "fig, axes = plt.subplots(ncols=3, figsize=(9, 3))\n",
        "\n",
        "# Your code here.\n",
        "axes[0].plot(t,x)\n",
        "axes[1].plot(t,v)\n",
        "axes[2].plot(x,v)\n",
        "\n",
        "\n",
        "fig.tight_layout()\n",
        "plt.show()"
      ]
    }
  ],
  "metadata": {
    "colab": {
      "provenance": []
    },
    "kernelspec": {
      "display_name": "biophys",
      "language": "python",
      "name": "biophys"
    },
    "language_info": {
      "codemirror_mode": {
        "name": "ipython",
        "version": 3
      },
      "file_extension": ".py",
      "mimetype": "text/x-python",
      "name": "python",
      "nbconvert_exporter": "python",
      "pygments_lexer": "ipython3",
      "version": "3.8.10"
    }
  },
  "nbformat": 4,
  "nbformat_minor": 5
}
